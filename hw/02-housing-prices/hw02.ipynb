{
 "cells": [
  {
   "cell_type": "code",
   "execution_count": 1,
   "id": "430881fe",
   "metadata": {
    "pycharm": {
     "is_executing": true,
     "name": "#%%\n"
    }
   },
   "outputs": [],
   "source": [
    "import pandas as pd\n",
    "import numpy as np\n",
    "import matplotlib.pyplot as plt\n",
    "import seaborn as sns\n",
    "import scipy"
   ]
  },
  {
   "cell_type": "code",
   "execution_count": 2,
   "id": "28f75028",
   "metadata": {},
   "outputs": [
    {
     "data": {
      "text/html": [
       "<div>\n",
       "<style scoped>\n",
       "    .dataframe tbody tr th:only-of-type {\n",
       "        vertical-align: middle;\n",
       "    }\n",
       "\n",
       "    .dataframe tbody tr th {\n",
       "        vertical-align: top;\n",
       "    }\n",
       "\n",
       "    .dataframe thead th {\n",
       "        text-align: right;\n",
       "    }\n",
       "</style>\n",
       "<table border=\"1\" class=\"dataframe\">\n",
       "  <thead>\n",
       "    <tr style=\"text-align: right;\">\n",
       "      <th></th>\n",
       "      <th>longitude</th>\n",
       "      <th>latitude</th>\n",
       "      <th>housing_median_age</th>\n",
       "      <th>total_rooms</th>\n",
       "      <th>total_bedrooms</th>\n",
       "      <th>population</th>\n",
       "      <th>households</th>\n",
       "      <th>median_income</th>\n",
       "      <th>median_house_value</th>\n",
       "    </tr>\n",
       "  </thead>\n",
       "  <tbody>\n",
       "    <tr>\n",
       "      <th>0</th>\n",
       "      <td>-122.23</td>\n",
       "      <td>37.88</td>\n",
       "      <td>41.0</td>\n",
       "      <td>880.0</td>\n",
       "      <td>129.0</td>\n",
       "      <td>322.0</td>\n",
       "      <td>126.0</td>\n",
       "      <td>8.3252</td>\n",
       "      <td>452600.0</td>\n",
       "    </tr>\n",
       "    <tr>\n",
       "      <th>1</th>\n",
       "      <td>-122.22</td>\n",
       "      <td>37.86</td>\n",
       "      <td>21.0</td>\n",
       "      <td>7099.0</td>\n",
       "      <td>1106.0</td>\n",
       "      <td>2401.0</td>\n",
       "      <td>1138.0</td>\n",
       "      <td>8.3014</td>\n",
       "      <td>358500.0</td>\n",
       "    </tr>\n",
       "    <tr>\n",
       "      <th>2</th>\n",
       "      <td>-122.24</td>\n",
       "      <td>37.85</td>\n",
       "      <td>52.0</td>\n",
       "      <td>1467.0</td>\n",
       "      <td>190.0</td>\n",
       "      <td>496.0</td>\n",
       "      <td>177.0</td>\n",
       "      <td>7.2574</td>\n",
       "      <td>352100.0</td>\n",
       "    </tr>\n",
       "    <tr>\n",
       "      <th>3</th>\n",
       "      <td>-122.25</td>\n",
       "      <td>37.85</td>\n",
       "      <td>52.0</td>\n",
       "      <td>1274.0</td>\n",
       "      <td>235.0</td>\n",
       "      <td>558.0</td>\n",
       "      <td>219.0</td>\n",
       "      <td>5.6431</td>\n",
       "      <td>341300.0</td>\n",
       "    </tr>\n",
       "    <tr>\n",
       "      <th>4</th>\n",
       "      <td>-122.25</td>\n",
       "      <td>37.85</td>\n",
       "      <td>52.0</td>\n",
       "      <td>1627.0</td>\n",
       "      <td>280.0</td>\n",
       "      <td>565.0</td>\n",
       "      <td>259.0</td>\n",
       "      <td>3.8462</td>\n",
       "      <td>342200.0</td>\n",
       "    </tr>\n",
       "  </tbody>\n",
       "</table>\n",
       "</div>"
      ],
      "text/plain": [
       "   longitude  latitude  housing_median_age  total_rooms  total_bedrooms  \\\n",
       "0    -122.23     37.88                41.0        880.0           129.0   \n",
       "1    -122.22     37.86                21.0       7099.0          1106.0   \n",
       "2    -122.24     37.85                52.0       1467.0           190.0   \n",
       "3    -122.25     37.85                52.0       1274.0           235.0   \n",
       "4    -122.25     37.85                52.0       1627.0           280.0   \n",
       "\n",
       "   population  households  median_income  median_house_value  \n",
       "0       322.0       126.0         8.3252            452600.0  \n",
       "1      2401.0      1138.0         8.3014            358500.0  \n",
       "2       496.0       177.0         7.2574            352100.0  \n",
       "3       558.0       219.0         5.6431            341300.0  \n",
       "4       565.0       259.0         3.8462            342200.0  "
      ]
     },
     "execution_count": 2,
     "metadata": {},
     "output_type": "execute_result"
    }
   ],
   "source": [
    "data = pd.read_csv('housing.csv')\n",
    "required_columns = [\n",
    "    'longitude', 'latitude', 'housing_median_age', 'total_rooms',\n",
    "    'total_bedrooms', 'population', 'households', 'median_income',\n",
    "    'median_house_value'\n",
    "]\n",
    "data = data[required_columns]\n",
    "data.head()"
   ]
  },
  {
   "cell_type": "code",
   "execution_count": 3,
   "id": "f8882969",
   "metadata": {},
   "outputs": [
    {
     "data": {
      "text/plain": [
       "<AxesSubplot:>"
      ]
     },
     "execution_count": 3,
     "metadata": {},
     "output_type": "execute_result"
    },
    {
     "data": {
      "image/png": "[encoded data removed]",
      "text/plain": [
       "<Figure size 640x480 with 1 Axes>"
      ]
     },
     "metadata": {},
     "output_type": "display_data"
    }
   ],
   "source": [
    "# median_house_value has a long tail.\n",
    "data['median_house_value'].hist(bins=50)"
   ]
  },
  {
   "cell_type": "markdown",
   "id": "367206aa",
   "metadata": {
    "pycharm": {
     "name": "#%% md\n"
    }
   },
   "source": [
    "## Question 1\n",
    "Find a feature with missing values. How many missing values does it have?\n",
    "* 207\n",
    "* 307\n",
    "* 408\n",
    "* 508"
   ]
  },
  {
   "cell_type": "code",
   "execution_count": 4,
   "id": "a8e192db",
   "metadata": {
    "pycharm": {
     "name": "#%%\n"
    }
   },
   "outputs": [
    {
     "name": "stdout",
     "output_type": "stream",
     "text": [
      "total_bedrooms    207\n",
      "dtype: int64\n"
     ]
    }
   ],
   "source": [
    "s = data.isnull().sum()\n",
    "features_with_missing = s[s != 0]\n",
    "print(features_with_missing)"
   ]
  },
  {
   "cell_type": "markdown",
   "id": "47288886",
   "metadata": {
    "pycharm": {
     "name": "#%% md\n"
    }
   },
   "source": [
    "## Question 2\n",
    "What's the median (50% percentile) for variable 'population'?\n",
    "* 1133\n",
    "* 1122\n",
    "* 1166\n",
    "* 1188\n"
   ]
  },
  {
   "cell_type": "code",
   "execution_count": 5,
   "id": "bc98901d",
   "metadata": {
    "pycharm": {
     "name": "#%%\n"
    }
   },
   "outputs": [
    {
     "name": "stdout",
     "output_type": "stream",
     "text": [
      "1166.0\n"
     ]
    }
   ],
   "source": [
    "print(data.population.median())"
   ]
  },
  {
   "cell_type": "markdown",
   "id": "d990bcd7",
   "metadata": {
    "pycharm": {
     "name": "#%% md\n"
    }
   },
   "source": [
    "# Exploratory Data Analysis\n"
   ]
  },
  {
   "cell_type": "code",
   "execution_count": 6,
   "id": "64a25bbb",
   "metadata": {
    "pycharm": {
     "name": "#%%\n"
    }
   },
   "outputs": [
    {
     "name": "stdout",
     "output_type": "stream",
     "text": [
      "------------>\n",
      "Column: 'longitude' (float64)\n",
      "Missing values: 0\n",
      "Unique value count: 844\n",
      "Min value: -124.35, max value: -114.31\n",
      "Top 5 by rate: [-118.31, -118.3, -118.29, -118.27, -118.32]\n",
      "Max rate value: -118.31, min rate value -123.71\n",
      "\n",
      "------------>\n",
      "Column: 'latitude' (float64)\n",
      "Missing values: 0\n",
      "Unique value count: 862\n",
      "Min value: 32.54, max value: 41.95\n",
      "Top 5 by rate: [34.06, 34.05, 34.08, 34.07, 34.04]\n",
      "Max rate value: 34.06, min rate value 35.88\n",
      "\n",
      "------------>\n",
      "Column: 'housing_median_age' (float64)\n",
      "Missing values: 0\n",
      "Unique value count: 52\n",
      "Min value: 1.0, max value: 52.0\n",
      "Top 5 by rate: [52.0, 36.0, 35.0, 16.0, 17.0]\n",
      "Max rate value: 52.0, min rate value 1.0\n",
      "\n",
      "------------>\n",
      "Column: 'total_rooms' (float64)\n",
      "Missing values: 0\n",
      "Unique value count: 5926\n",
      "Min value: 2.0, max value: 39320.0\n",
      "Top 5 by rate: [1527.0, 1613.0, 1582.0, 2127.0, 1717.0]\n",
      "Max rate value: 1527.0, min rate value 10035.0\n",
      "\n",
      "------------>\n",
      "Column: 'total_bedrooms' (float64)\n",
      "Missing values: 207\n",
      "Unique value count: 1923\n",
      "Min value: 1.0, max value: 6445.0\n",
      "Top 5 by rate: [280.0, 331.0, 345.0, 343.0, 393.0]\n",
      "Max rate value: 280.0, min rate value 1052.0\n",
      "\n",
      "------------>\n",
      "Column: 'population' (float64)\n",
      "Missing values: 0\n",
      "Unique value count: 3888\n",
      "Min value: 3.0, max value: 35682.0\n",
      "Top 5 by rate: [891.0, 761.0, 1227.0, 1052.0, 850.0]\n",
      "Max rate value: 891.0, min rate value 6912.0\n",
      "\n",
      "------------>\n",
      "Column: 'households' (float64)\n",
      "Missing values: 0\n",
      "Unique value count: 1815\n",
      "Min value: 1.0, max value: 6082.0\n",
      "Top 5 by rate: [306.0, 386.0, 335.0, 282.0, 429.0]\n",
      "Max rate value: 306.0, min rate value 1818.0\n",
      "\n",
      "------------>\n",
      "Column: 'median_income' (float64)\n",
      "Missing values: 0\n",
      "Unique value count: 12928\n",
      "Min value: 0.4999, max value: 15.0001\n",
      "Top 5 by rate: [3.125, 15.0001, 2.875, 2.625, 4.125]\n",
      "Max rate value: 3.125, min rate value 2.0943\n",
      "\n",
      "------------>\n",
      "Column: 'median_house_value' (float64)\n",
      "Missing values: 0\n",
      "Unique value count: 3842\n",
      "Min value: 14999.0, max value: 500001.0\n",
      "Top 5 by rate: [500001.0, 137500.0, 162500.0, 112500.0, 187500.0]\n",
      "Max rate value: 500001.0, min rate value 47000.0\n",
      "\n"
     ]
    }
   ],
   "source": [
    "# describe all columns\n",
    "for column in data.columns:\n",
    "    print(\"------------>\")\n",
    "    print(f\"Column: '{column}' ({data.dtypes[column]})\")\n",
    "    print(f\"Missing values: {data[column].isnull().sum()}\")\n",
    "    print(f\"Unique value count: {data[column].nunique()}\")\n",
    "    print(f\"Min value: {data[column].min()}, max value: {data[column].max()}\")\n",
    "    value_counts = data[column].value_counts()\n",
    "    print(f\"Top 5 by rate: {list(value_counts.index)[:5]}\")\n",
    "    print(f\"Max rate value: {value_counts.index[0]}, min rate value {value_counts.index[-1]}\")\n",
    "\n",
    "    print()"
   ]
  },
  {
   "cell_type": "code",
   "execution_count": 7,
   "id": "9bf79df8",
   "metadata": {
    "pycharm": {
     "name": "#%%\n"
    }
   },
   "outputs": [
    {
     "name": "stdout",
     "output_type": "stream",
     "text": [
      "----------->\n",
      "Target: 'median_house_value'\n",
      "Skewness: 0.9776922140978416\n",
      "Kurtosis: 0.3275001388119616\n"
     ]
    },
    {
     "data": {
      "text/plain": [
       "<AxesSubplot:xlabel='median_house_value', ylabel='Count'>"
      ]
     },
     "execution_count": 7,
     "metadata": {},
     "output_type": "execute_result"
    },
    {
     "data": {
      "image/png": "[encoded data removed]",
      "text/plain": [
       "<Figure size 640x480 with 1 Axes>"
      ]
     },
     "metadata": {},
     "output_type": "display_data"
    }
   ],
   "source": [
    "# describe target column\n",
    "target_name = 'median_house_value'\n",
    "print(\"----------->\")\n",
    "print(f\"Target: '{target_name}'\")\n",
    "print(f\"Skewness: {scipy.stats.skew(data[target_name])}\")\n",
    "print(f\"Kurtosis: {scipy.stats.kurtosis(data[target_name])}\")\n",
    "sns.histplot(data[target_name], bins=50)"
   ]
  },
  {
   "cell_type": "code",
   "execution_count": 8,
   "id": "233e0939",
   "metadata": {
    "pycharm": {
     "name": "#%%\n"
    }
   },
   "outputs": [
    {
     "data": {
      "text/plain": [
       "<AxesSubplot:xlabel='median_house_value', ylabel='Count'>"
      ]
     },
     "execution_count": 8,
     "metadata": {},
     "output_type": "execute_result"
    },
    {
     "data": {
      "image/png": "[encoded data removed]",
      "text/plain": [
       "<Figure size 640x480 with 1 Axes>"
      ]
     },
     "metadata": {},
     "output_type": "display_data"
    }
   ],
   "source": [
    "# Long-tail distributions usually confuse the ML models,\n",
    "# so the recommendation is to transform the target variable distribution\n",
    "# to a normal one whenever possible.\n",
    "price_log = np.log1p(data[target_name])\n",
    "sns.histplot(price_log, bins=50)"
   ]
  },
  {
   "cell_type": "markdown",
   "id": "6071416c",
   "metadata": {
    "pycharm": {
     "name": "#%% md\n"
    }
   },
   "source": [
    "## Split the data\n",
    "Shuffle the initial dataset, use seed 42.\n",
    "Split your data in train/val/test sets, with 60%/20%/20% distribution.\n",
    "Make sure that the target value ('median_house_value') is not in your dataframe.\n",
    "Apply the log transformation to the median_house_value variable using the np.log1p() function."
   ]
  },
  {
   "cell_type": "code",
   "execution_count": 9,
   "id": "bde3033d",
   "metadata": {
    "pycharm": {
     "name": "#%%\n"
    }
   },
   "outputs": [],
   "source": [
    "def split_data(df, random_seed):\n",
    "    n = len(df)\n",
    "    n_val = int(n*0.2)\n",
    "    n_test = int(n*0.2)\n",
    "    n_train = n - n_val - n_test\n",
    "\n",
    "    idx = np.arange(0, n)\n",
    "    np.random.seed(random_seed)\n",
    "    np.random.shuffle(idx)\n",
    "    df_train = df.iloc[idx[:n_train]]\n",
    "    df_val = df.iloc[idx[n_train:n_train+n_val]]\n",
    "    df_test = df.iloc[idx[n_train+n_val:]]\n",
    "\n",
    "    y_train = np.log1p(df_train[target_name].values)\n",
    "    y_val = np.log1p(df_val[target_name].values)\n",
    "    y_test = np.log1p(df_test[target_name].values)\n",
    "    del df_train[target_name]\n",
    "    del df_val[target_name]\n",
    "    del df_test[target_name]\n",
    "\n",
    "    return (\n",
    "        (df_train, y_train),\n",
    "        (df_val, y_val),\n",
    "        (df_test, y_test),\n",
    "    )"
   ]
  },
  {
   "cell_type": "code",
   "execution_count": 10,
   "id": "2875f8ad",
   "metadata": {
    "pycharm": {
     "name": "#%%\n"
    }
   },
   "outputs": [],
   "source": [
    "(\n",
    "(data_train, y_train),\n",
    "(data_val, y_val),\n",
    "(data_test, y_test),\n",
    ") = split_data(data, 42)"
   ]
  },
  {
   "cell_type": "markdown",
   "id": "19576ca5",
   "metadata": {
    "pycharm": {
     "name": "#%% md\n"
    }
   },
   "source": [
    "## Question 3\n",
    "* We need to deal with missing values for the column from Q1.\n",
    "* We have two options: fill it with 0 or with the mean of this variable.\n",
    "* Try both options. For each, train a linear regression model without regularization using the code from the lessons.\n",
    "* For computing the mean, use the training only!\n",
    "* Use the validation dataset to evaluate the models and compare the RMSE of each option.\n",
    "* Round the RMSE scores to 2 decimal digits using round(score, 2)\n",
    "* Which option gives better RMSE?"
   ]
  },
  {
   "cell_type": "code",
   "execution_count": 11,
   "id": "0b32e892",
   "metadata": {
    "pycharm": {
     "name": "#%%\n"
    }
   },
   "outputs": [],
   "source": [
    "def train_linear_regression(X, y, ridge_alpha=None):\n",
    "    ones = np.ones(X.shape[0])\n",
    "    X = np.column_stack([ones, X])\n",
    "\n",
    "    XTX = X.T.dot(X)\n",
    "    if ridge_alpha is not None:\n",
    "        XTX = XTX + ridge_alpha * np.eye(XTX.shape[0])\n",
    "    XTX_inv = np.linalg.inv(XTX)\n",
    "    w = XTX_inv.dot(X.T).dot(y)\n",
    "\n",
    "    return w[0], w[1:]\n",
    "\n",
    "def rmse(y, y_pred):\n",
    "    error = y_pred - y\n",
    "    mse = (error ** 2).mean()\n",
    "    return np.sqrt(mse)\n",
    "\n",
    "def _fillna_by_mean(df):\n",
    "    missing_features = df.isnull().sum()\n",
    "    for feature in missing_features[missing_features != 0].index.tolist():\n",
    "        mean  = df[feature].mean()\n",
    "        df[feature] = df[feature].fillna(mean)\n",
    "    return df\n",
    "\n",
    "\n",
    "def prepare_X(df, features, fillna_mode):\n",
    "    if features is None:\n",
    "        features = df.columns.tolist()\n",
    "    df = df[features]\n",
    "    if fillna_mode == 'zero':\n",
    "        df = df.fillna(0)\n",
    "    elif fillna_mode == 'mean':\n",
    "        df = _fillna_by_mean(df)\n",
    "    X = df.values\n",
    "    return X"
   ]
  },
  {
   "cell_type": "code",
   "execution_count": 12,
   "id": "9936ba32",
   "metadata": {
    "pycharm": {
     "name": "#%%\n"
    }
   },
   "outputs": [
    {
     "name": "stdout",
     "output_type": "stream",
     "text": [
      "fillna_mode='zero': RMSE=0.33\n"
     ]
    },
    {
     "data": {
      "image/png": "[encoded data removed]",
      "text/plain": [
       "<Figure size 384x288 with 1 Axes>"
      ]
     },
     "metadata": {},
     "output_type": "display_data"
    },
    {
     "name": "stdout",
     "output_type": "stream",
     "text": [
      "fillna_mode='mean': RMSE=0.33\n"
     ]
    },
    {
     "data": {
      "image/png": "[encoded data removed]",
      "text/plain": [
       "<Figure size 384x288 with 1 Axes>"
      ]
     },
     "metadata": {},
     "output_type": "display_data"
    }
   ],
   "source": [
    "for fillna_mode in ['zero', 'mean']:\n",
    "    w0, w = train_linear_regression(prepare_X(data_train, None, fillna_mode), y_train)\n",
    "    y_pred = w0 + prepare_X(data_val, None, fillna_mode).dot(w)\n",
    "    print(f'{fillna_mode=}: RMSE={round(rmse(y_val, y_pred), 2)}')\n",
    "    plt.figure(dpi=60)\n",
    "    sns.histplot(y_val, label='target', color='blue', alpha=0.6, bins=40)\n",
    "    sns.histplot(y_pred, label='prediction', color='red', alpha=0.8, bins=40)\n",
    "    plt.show()"
   ]
  },
  {
   "cell_type": "markdown",
   "id": "fe3cfa09",
   "metadata": {
    "pycharm": {
     "name": "#%% md\n"
    }
   },
   "source": [
    "## Question 4\n",
    "* Now let's train a regularized linear regression.\n",
    "* For this question, fill the NAs with 0.\n",
    "* Try different values of r from this list: [0, 0.000001, 0.0001, 0.001, 0.01, 0.1, 1, 5, 10].\n",
    "* Use RMSE to evaluate the model on the validation dataset.\n",
    "* Round the RMSE scores to 2 decimal digits.\n",
    "* Which r gives the best RMSE?"
   ]
  },
  {
   "cell_type": "code",
   "execution_count": 13,
   "id": "cce7bf97",
   "metadata": {
    "pycharm": {
     "name": "#%%\n"
    }
   },
   "outputs": [
    {
     "name": "stdout",
     "output_type": "stream",
     "text": [
      "ridge_alpha=0: RMSE=0.33\n",
      "ridge_alpha=1e-06: RMSE=0.33\n",
      "ridge_alpha=0.0001: RMSE=0.33\n",
      "ridge_alpha=0.001: RMSE=0.33\n",
      "ridge_alpha=0.01: RMSE=0.33\n",
      "ridge_alpha=0.1: RMSE=0.33\n",
      "ridge_alpha=1: RMSE=0.33\n",
      "ridge_alpha=5: RMSE=0.34\n",
      "ridge_alpha=10: RMSE=0.34\n"
     ]
    }
   ],
   "source": [
    "ridge_alphas = [0, 0.000001, 0.0001, 0.001, 0.01, 0.1, 1, 5, 10]\n",
    "X = prepare_X(data_train, None, 'zero')\n",
    "rmse_by_ridge_alpha = []\n",
    "for ridge_alpha in ridge_alphas:\n",
    "    w0, w = train_linear_regression(X, y_train, ridge_alpha)\n",
    "    y_pred = w0 + prepare_X(data_val, None, fillna_mode).dot(w)\n",
    "    rmse_ = round(rmse(y_val, y_pred), 2)\n",
    "    rmse_by_ridge_alpha.append((ridge_alpha, rmse_))\n",
    "    print(f'{ridge_alpha=}: RMSE={rmse_}')"
   ]
  },
  {
   "cell_type": "code",
   "execution_count": 14,
   "id": "fec519de",
   "metadata": {
    "pycharm": {
     "name": "#%%\n"
    }
   },
   "outputs": [
    {
     "name": "stdout",
     "output_type": "stream",
     "text": [
      "Q4: 0\n"
     ]
    }
   ],
   "source": [
    "rmse_by_ridge_alpha.sort(key=lambda v: (v[1], v[0]))\n",
    "print(\"Q4:\", rmse_by_ridge_alpha[0][0])"
   ]
  },
  {
   "cell_type": "markdown",
   "id": "19782c5e",
   "metadata": {
    "pycharm": {
     "name": "#%% md\n"
    }
   },
   "source": [
    "## Question 5\n",
    "* We used seed 42 for splitting the data. Let's find out how selecting the seed influences our score.\n",
    "* Try different seed values: [0, 1, 2, 3, 4, 5, 6, 7, 8, 9].\n",
    "* For each seed, do the train/validation/test split with 60%/20%/20% distribution.\n",
    "* Fill the missing values with 0 and train a model without regularization.\n",
    "* For each seed, evaluate the model on the validation dataset and collect the RMSE scores.\n",
    "* What's the standard deviation of all the scores? To compute the standard deviation, use np.std.\n",
    "* Round the result to 3 decimal digits (round(std, 3))"
   ]
  },
  {
   "cell_type": "code",
   "execution_count": 15,
   "id": "a9b2982a",
   "metadata": {
    "pycharm": {
     "name": "#%%\n"
    }
   },
   "outputs": [],
   "source": [
    "random_seeds = [0, 1, 2, 3, 4, 5, 6, 7, 8, 9]\n",
    "rmse_by_random_seed = []\n",
    "for random_seed in random_seeds:\n",
    "    (\n",
    "        (data_train, y_train),\n",
    "        (data_val, y_val),\n",
    "        (data_test, y_test),\n",
    "    ) = split_data(data, random_seed)\n",
    "    X = prepare_X(data_train, None, 'zero')\n",
    "    w0, w = train_linear_regression(X, y_train, None)\n",
    "    y_pred = w0 + prepare_X(data_val, None, 'zero').dot(w)\n",
    "    rmse_ = rmse(y_pred, y_val)\n",
    "    rmse_by_random_seed.append((random_seed, rmse_))"
   ]
  },
  {
   "cell_type": "code",
   "execution_count": 16,
   "id": "b5bdb5a1",
   "metadata": {
    "pycharm": {
     "name": "#%%\n"
    }
   },
   "outputs": [
    {
     "name": "stdout",
     "output_type": "stream",
     "text": [
      "Q5: 0.004\n"
     ]
    }
   ],
   "source": [
    "print(\"Q5:\", round(np.std([v[1] for v in rmse_by_random_seed]), 3))"
   ]
  },
  {
   "cell_type": "markdown",
   "id": "ed12e052",
   "metadata": {
    "pycharm": {
     "name": "#%% md\n"
    }
   },
   "source": [
    "## Question 6\n",
    "* Split the dataset like previously, use seed 9.\n",
    "* Combine train and validation datasets.\n",
    "* Fill the missing values with 0 and train a model with r=0.001.\n",
    "* What's the RMSE on the test dataset?"
   ]
  },
  {
   "cell_type": "code",
   "execution_count": 17,
   "id": "fa58807a",
   "metadata": {
    "pycharm": {
     "name": "#%%\n"
    }
   },
   "outputs": [
    {
     "name": "stdout",
     "output_type": "stream",
     "text": [
      "Q6: 0.3397763880121206\n"
     ]
    }
   ],
   "source": [
    "(\n",
    "    (data_train, y_train),\n",
    "    (data_val, y_val),\n",
    "    (data_test, y_test),\n",
    ") = split_data(data, 9)\n",
    "data_train2  = pd.concat([data_train, data_val])\n",
    "y_train2 = np.concatenate([y_train, y_val])\n",
    "X = prepare_X(data_train2, None, 'zero')\n",
    "w0, w = train_linear_regression(X, y_train2, ridge_alpha=0.001)\n",
    "y_pred = w0 + X.dot(w)\n",
    "print(f\"Q6:\", rmse(y_pred, y_train2))"
   ]
  }
 ],
 "metadata": {
  "kernelspec": {
   "display_name": "Python 3 (ipykernel)",
   "language": "python",
   "name": "python3"
  },
  "language_info": {
   "codemirror_mode": {
    "name": "ipython",
    "version": 3
   },
   "file_extension": ".py",
   "mimetype": "text/x-python",
   "name": "python",
   "nbconvert_exporter": "python",
   "pygments_lexer": "ipython3",
   "version": "3.10.0"
  }
 },
 "nbformat": 4,
 "nbformat_minor": 5
}
